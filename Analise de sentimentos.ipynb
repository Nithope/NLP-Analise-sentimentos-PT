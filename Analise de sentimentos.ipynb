{
 "cells": [
  {
   "cell_type": "code",
   "execution_count": 17,
   "metadata": {},
   "outputs": [],
   "source": [
    "import db\n",
    "import pandas as pd\n",
    "import numpy as np\n",
    "from sklearn.linear_model import LogisticRegression\n",
    "from sklearn.metrics import accuracy_score, f1_score\n",
    "from sklearn.model_selection import train_test_split\n",
    "from matplotlib import pyplot as plt\n",
    "import re\n",
    "import pickle"
   ]
  },
  {
   "cell_type": "markdown",
   "metadata": {},
   "source": [
    "# Getting info from SQLite tweets"
   ]
  },
  {
   "cell_type": "code",
   "execution_count": 2,
   "metadata": {},
   "outputs": [],
   "source": [
    "tweets=list(db.orm.select(t for t in db.Tweet))"
   ]
  },
  {
   "cell_type": "code",
   "execution_count": 3,
   "metadata": {
    "scrolled": true
   },
   "outputs": [],
   "source": [
    "text_L=list(i.text for i in tweets)\n",
    "sentiment_L =list(i.sentiment for i in tweets)"
   ]
  },
  {
   "cell_type": "code",
   "execution_count": 4,
   "metadata": {},
   "outputs": [],
   "source": [
    "df = pd.DataFrame()"
   ]
  },
  {
   "cell_type": "code",
   "execution_count": 5,
   "metadata": {},
   "outputs": [],
   "source": [
    "df['Text']=text_L\n",
    "df['Sentiment']=sentiment_L"
   ]
  },
  {
   "cell_type": "code",
   "execution_count": 6,
   "metadata": {},
   "outputs": [
    {
     "name": "stdout",
     "output_type": "stream",
     "text": [
      "40460 10309\n"
     ]
    }
   ],
   "source": [
    "np.random.seed(1337)\n",
    "msk = np.random.rand(len(df)) < 0.8\n",
    "print(len(df[msk]),\n",
    "len(df[~msk]))"
   ]
  },
  {
   "cell_type": "code",
   "execution_count": 7,
   "metadata": {},
   "outputs": [],
   "source": [
    "df_train = df[msk]\n",
    "df_test = df[~msk]"
   ]
  },
  {
   "cell_type": "code",
   "execution_count": 8,
   "metadata": {},
   "outputs": [],
   "source": [
    "from sklearn.feature_extraction.text import CountVectorizer\n",
    "\n",
    "cv_ngram = CountVectorizer(ngram_range=(1,2),max_df=0.5)\n",
    "cv_ngram.fit(df_train['Text'])\n",
    "X = cv_ngram.transform(df_train['Text'])\n",
    "X_test = cv_ngram.transform(df_test['Text'])"
   ]
  },
  {
   "cell_type": "markdown",
   "metadata": {},
   "source": [
    "# Splitting in train and test"
   ]
  },
  {
   "cell_type": "code",
   "execution_count": 9,
   "metadata": {},
   "outputs": [
    {
     "name": "stderr",
     "output_type": "stream",
     "text": [
      "/home/nikolas/anaconda3/lib/python3.7/site-packages/sklearn/model_selection/_split.py:2179: FutureWarning: From version 0.21, test_size will always complement train_size unless both are specified.\n",
      "  FutureWarning)\n"
     ]
    }
   ],
   "source": [
    "X_train, X_val, y_train, y_val = train_test_split(\n",
    "    X, df_train['Sentiment'], train_size = 0.75\n",
    ")"
   ]
  },
  {
   "cell_type": "code",
   "execution_count": 10,
   "metadata": {},
   "outputs": [
    {
     "name": "stderr",
     "output_type": "stream",
     "text": [
      "/home/nikolas/anaconda3/lib/python3.7/site-packages/sklearn/linear_model/logistic.py:433: FutureWarning: Default solver will be changed to 'lbfgs' in 0.22. Specify a solver to silence this warning.\n",
      "  FutureWarning)\n"
     ]
    },
    {
     "name": "stdout",
     "output_type": "stream",
     "text": [
      "tuned hyperparameters :(best parameters)  {'C': 0.4736842105263684}\n",
      "accuracy : 0.7696490360850222\n",
      "\n",
      "Best parameters set found on development set:\n",
      "\n",
      "{'C': 0.4736842105263684}\n",
      "\n",
      "Grid scores on development set:\n",
      "\n",
      "0.585 (+/-0.008) for {'C': 1e-13}\n",
      "0.756 (+/-0.011) for {'C': 0.05263157894746316}\n",
      "0.762 (+/-0.010) for {'C': 0.10526315789482632}\n",
      "0.766 (+/-0.010) for {'C': 0.1578947368421895}\n",
      "0.768 (+/-0.013) for {'C': 0.21052631578955264}\n",
      "0.768 (+/-0.013) for {'C': 0.26315789473691575}\n",
      "0.769 (+/-0.013) for {'C': 0.31578947368427895}\n",
      "0.769 (+/-0.011) for {'C': 0.3684210526316421}\n",
      "0.769 (+/-0.011) for {'C': 0.42105263157900524}\n",
      "0.770 (+/-0.010) for {'C': 0.4736842105263684}\n",
      "0.769 (+/-0.011) for {'C': 0.5263157894737316}\n",
      "0.769 (+/-0.010) for {'C': 0.5789473684210947}\n",
      "0.769 (+/-0.010) for {'C': 0.631578947368458}\n",
      "0.769 (+/-0.011) for {'C': 0.6842105263158211}\n",
      "0.769 (+/-0.011) for {'C': 0.7368421052631843}\n",
      "0.769 (+/-0.011) for {'C': 0.7894736842105474}\n",
      "0.769 (+/-0.011) for {'C': 0.8421052631579106}\n",
      "0.769 (+/-0.011) for {'C': 0.8947368421052737}\n",
      "0.769 (+/-0.011) for {'C': 0.9473684210526369}\n",
      "0.769 (+/-0.012) for {'C': 1.0}\n",
      "\n",
      "              precision    recall  f1-score   support\n",
      "\n",
      "           0       0.77      0.74      0.76      4763\n",
      "           1       0.78      0.80      0.79      5352\n",
      "\n",
      "   micro avg       0.77      0.77      0.77     10115\n",
      "   macro avg       0.77      0.77      0.77     10115\n",
      "weighted avg       0.77      0.77      0.77     10115\n",
      "\n",
      "\n"
     ]
    }
   ],
   "source": [
    "from sklearn.model_selection import GridSearchCV\n",
    "from sklearn.metrics import classification_report\n",
    "grid={\"C\":np.linspace(0.0000000000001,1,20)}\n",
    "lr=LogisticRegression()\n",
    "lr_cv=GridSearchCV(lr,grid,cv=10)\n",
    "lr_cv.fit(X_train,y_train)\n",
    "\n",
    "print(\"tuned hyperparameters :(best parameters) \",lr_cv.best_params_)\n",
    "print(\"accuracy :\",lr_cv.best_score_)\n",
    "print()\n",
    "print(\"Best parameters set found on development set:\")\n",
    "print()\n",
    "print(lr_cv.best_params_)\n",
    "print()\n",
    "print(\"Grid scores on development set:\")\n",
    "print()\n",
    "means = lr_cv.cv_results_['mean_test_score']\n",
    "stds = lr_cv.cv_results_['std_test_score']\n",
    "for mean, std, params in zip(means, stds, lr_cv.cv_results_['params']):\n",
    "    print(\"%0.3f (+/-%0.03f) for %r\"\n",
    "          % (mean, std * 2, params))\n",
    "print()\n",
    "y_true, y_pred = y_val, lr_cv.predict(X_val)\n",
    "print(classification_report(y_true, y_pred))\n",
    "print()\n"
   ]
  },
  {
   "cell_type": "markdown",
   "metadata": {},
   "source": [
    "# GridSearch + pipeline"
   ]
  },
  {
   "cell_type": "code",
   "execution_count": 11,
   "metadata": {},
   "outputs": [
    {
     "name": "stdout",
     "output_type": "stream",
     "text": [
      "Performing grid search...\n",
      "pipeline: ['vect', 'lr']\n",
      "parameters:\n",
      "{'lr__C': array([1.00000000e-13, 5.26315789e-02, 1.05263158e-01, 1.57894737e-01,\n",
      "       2.10526316e-01, 2.63157895e-01, 3.15789474e-01, 3.68421053e-01,\n",
      "       4.21052632e-01, 4.73684211e-01, 5.26315789e-01, 5.78947368e-01,\n",
      "       6.31578947e-01, 6.84210526e-01, 7.36842105e-01, 7.89473684e-01,\n",
      "       8.42105263e-01, 8.94736842e-01, 9.47368421e-01, 1.00000000e+00]),\n",
      " 'vect__max_df': (0.5, 0.75, 1.0),\n",
      " 'vect__ngram_range': ((1, 1), (1, 2))}\n"
     ]
    },
    {
     "name": "stderr",
     "output_type": "stream",
     "text": [
      "/home/nikolas/anaconda3/lib/python3.7/site-packages/sklearn/linear_model/logistic.py:433: FutureWarning: Default solver will be changed to 'lbfgs' in 0.22. Specify a solver to silence this warning.\n",
      "  FutureWarning)\n"
     ]
    },
    {
     "name": "stdout",
     "output_type": "stream",
     "text": [
      "done in 3326.052s\n",
      "\n",
      "Best score: 0.773\n",
      "Best parameters set:\n",
      "\tlr__C: 0.631578947368458\n",
      "\tvect__max_df: 0.5\n",
      "\tvect__ngram_range: (1, 2)\n"
     ]
    }
   ],
   "source": [
    "from pprint import pprint\n",
    "from time import time\n",
    "from sklearn.model_selection import GridSearchCV\n",
    "from sklearn.metrics import classification_report\n",
    "from sklearn.feature_extraction.text import CountVectorizer\n",
    "from sklearn.pipeline import Pipeline\n",
    "import nltk.corpus\n",
    "\n",
    "stopwords_PT = nltk.corpus.stopwords.words('portuguese')\n",
    "\n",
    "pipeline = Pipeline([\n",
    "    ('vect', CountVectorizer()),\n",
    "    ('lr',LogisticRegression()),\n",
    "])\n",
    "\n",
    "# uncommenting more parameters will give better exploring power but will\n",
    "# increase processing time in a combinatorial way\n",
    "parameters = {\n",
    "    'vect__max_df': (0.5, 0.75, 1.0),\n",
    "#    'vect__min_df': (0.1, 0.25, 0.5),\n",
    "    'vect__ngram_range': ((1, 1), (1, 2)),\n",
    "#     'vect__stop_words': (['portuguese']),\n",
    "    'lr__C': np.linspace(0.0000000000001,1,20),\n",
    "}\n",
    "\n",
    "grid_search=GridSearchCV(pipeline,parameters,cv=10,scoring=\"f1_macro\")\n",
    "print(\"Performing grid search...\")\n",
    "print(\"pipeline:\", [name for name, _ in pipeline.steps])\n",
    "print(\"parameters:\")\n",
    "pprint(parameters)\n",
    "t0 = time()\n",
    "grid_search.fit(df_train['Text'],df_train['Sentiment'])\n",
    "print(\"done in %0.3fs\" % (time() - t0))\n",
    "print()\n",
    "\n",
    "print(\"Best score: %0.3f\" % grid_search.best_score_)\n",
    "print(\"Best parameters set:\")\n",
    "best_parameters = grid_search.best_estimator_.get_params()\n",
    "for param_name in sorted(parameters.keys()):\n",
    "    print(\"\\t%s: %r\" % (param_name, best_parameters[param_name]))\n"
   ]
  },
  {
   "cell_type": "code",
   "execution_count": 12,
   "metadata": {
    "scrolled": true
   },
   "outputs": [
    {
     "name": "stdout",
     "output_type": "stream",
     "text": [
      "Best parameters set found on development set:\n",
      "\n",
      "{'lr__C': 0.631578947368458, 'vect__max_df': 0.5, 'vect__ngram_range': (1, 2)}\n",
      "\n",
      "Grid scores on development set:\n",
      "\n",
      "0.496 (+/-0.015) for {'lr__C': 1e-13, 'vect__max_df': 0.5, 'vect__ngram_range': (1, 1)}\n",
      "0.501 (+/-0.015) for {'lr__C': 1e-13, 'vect__max_df': 0.5, 'vect__ngram_range': (1, 2)}\n",
      "0.496 (+/-0.015) for {'lr__C': 1e-13, 'vect__max_df': 0.75, 'vect__ngram_range': (1, 1)}\n",
      "0.501 (+/-0.015) for {'lr__C': 1e-13, 'vect__max_df': 0.75, 'vect__ngram_range': (1, 2)}\n",
      "0.496 (+/-0.015) for {'lr__C': 1e-13, 'vect__max_df': 1.0, 'vect__ngram_range': (1, 1)}\n",
      "0.501 (+/-0.015) for {'lr__C': 1e-13, 'vect__max_df': 1.0, 'vect__ngram_range': (1, 2)}\n",
      "0.750 (+/-0.018) for {'lr__C': 0.05263157894746316, 'vect__max_df': 0.5, 'vect__ngram_range': (1, 1)}\n",
      "0.758 (+/-0.016) for {'lr__C': 0.05263157894746316, 'vect__max_df': 0.5, 'vect__ngram_range': (1, 2)}\n",
      "0.750 (+/-0.018) for {'lr__C': 0.05263157894746316, 'vect__max_df': 0.75, 'vect__ngram_range': (1, 1)}\n",
      "0.758 (+/-0.016) for {'lr__C': 0.05263157894746316, 'vect__max_df': 0.75, 'vect__ngram_range': (1, 2)}\n",
      "0.750 (+/-0.018) for {'lr__C': 0.05263157894746316, 'vect__max_df': 1.0, 'vect__ngram_range': (1, 1)}\n",
      "0.758 (+/-0.016) for {'lr__C': 0.05263157894746316, 'vect__max_df': 1.0, 'vect__ngram_range': (1, 2)}\n",
      "0.756 (+/-0.019) for {'lr__C': 0.10526315789482632, 'vect__max_df': 0.5, 'vect__ngram_range': (1, 1)}\n",
      "0.766 (+/-0.017) for {'lr__C': 0.10526315789482632, 'vect__max_df': 0.5, 'vect__ngram_range': (1, 2)}\n",
      "0.756 (+/-0.019) for {'lr__C': 0.10526315789482632, 'vect__max_df': 0.75, 'vect__ngram_range': (1, 1)}\n",
      "0.766 (+/-0.017) for {'lr__C': 0.10526315789482632, 'vect__max_df': 0.75, 'vect__ngram_range': (1, 2)}\n",
      "0.756 (+/-0.019) for {'lr__C': 0.10526315789482632, 'vect__max_df': 1.0, 'vect__ngram_range': (1, 1)}\n",
      "0.766 (+/-0.017) for {'lr__C': 0.10526315789482632, 'vect__max_df': 1.0, 'vect__ngram_range': (1, 2)}\n",
      "0.760 (+/-0.018) for {'lr__C': 0.1578947368421895, 'vect__max_df': 0.5, 'vect__ngram_range': (1, 1)}\n",
      "0.769 (+/-0.018) for {'lr__C': 0.1578947368421895, 'vect__max_df': 0.5, 'vect__ngram_range': (1, 2)}\n",
      "0.760 (+/-0.018) for {'lr__C': 0.1578947368421895, 'vect__max_df': 0.75, 'vect__ngram_range': (1, 1)}\n",
      "0.769 (+/-0.018) for {'lr__C': 0.1578947368421895, 'vect__max_df': 0.75, 'vect__ngram_range': (1, 2)}\n",
      "0.760 (+/-0.018) for {'lr__C': 0.1578947368421895, 'vect__max_df': 1.0, 'vect__ngram_range': (1, 1)}\n",
      "0.769 (+/-0.018) for {'lr__C': 0.1578947368421895, 'vect__max_df': 1.0, 'vect__ngram_range': (1, 2)}\n",
      "0.761 (+/-0.019) for {'lr__C': 0.21052631578955264, 'vect__max_df': 0.5, 'vect__ngram_range': (1, 1)}\n",
      "0.772 (+/-0.017) for {'lr__C': 0.21052631578955264, 'vect__max_df': 0.5, 'vect__ngram_range': (1, 2)}\n",
      "0.761 (+/-0.019) for {'lr__C': 0.21052631578955264, 'vect__max_df': 0.75, 'vect__ngram_range': (1, 1)}\n",
      "0.772 (+/-0.017) for {'lr__C': 0.21052631578955264, 'vect__max_df': 0.75, 'vect__ngram_range': (1, 2)}\n",
      "0.761 (+/-0.019) for {'lr__C': 0.21052631578955264, 'vect__max_df': 1.0, 'vect__ngram_range': (1, 1)}\n",
      "0.772 (+/-0.017) for {'lr__C': 0.21052631578955264, 'vect__max_df': 1.0, 'vect__ngram_range': (1, 2)}\n",
      "0.762 (+/-0.018) for {'lr__C': 0.26315789473691575, 'vect__max_df': 0.5, 'vect__ngram_range': (1, 1)}\n",
      "0.771 (+/-0.017) for {'lr__C': 0.26315789473691575, 'vect__max_df': 0.5, 'vect__ngram_range': (1, 2)}\n",
      "0.762 (+/-0.018) for {'lr__C': 0.26315789473691575, 'vect__max_df': 0.75, 'vect__ngram_range': (1, 1)}\n",
      "0.771 (+/-0.017) for {'lr__C': 0.26315789473691575, 'vect__max_df': 0.75, 'vect__ngram_range': (1, 2)}\n",
      "0.762 (+/-0.018) for {'lr__C': 0.26315789473691575, 'vect__max_df': 1.0, 'vect__ngram_range': (1, 1)}\n",
      "0.771 (+/-0.017) for {'lr__C': 0.26315789473691575, 'vect__max_df': 1.0, 'vect__ngram_range': (1, 2)}\n",
      "0.762 (+/-0.018) for {'lr__C': 0.31578947368427895, 'vect__max_df': 0.5, 'vect__ngram_range': (1, 1)}\n",
      "0.771 (+/-0.018) for {'lr__C': 0.31578947368427895, 'vect__max_df': 0.5, 'vect__ngram_range': (1, 2)}\n",
      "0.762 (+/-0.018) for {'lr__C': 0.31578947368427895, 'vect__max_df': 0.75, 'vect__ngram_range': (1, 1)}\n",
      "0.771 (+/-0.018) for {'lr__C': 0.31578947368427895, 'vect__max_df': 0.75, 'vect__ngram_range': (1, 2)}\n",
      "0.762 (+/-0.018) for {'lr__C': 0.31578947368427895, 'vect__max_df': 1.0, 'vect__ngram_range': (1, 1)}\n",
      "0.771 (+/-0.018) for {'lr__C': 0.31578947368427895, 'vect__max_df': 1.0, 'vect__ngram_range': (1, 2)}\n",
      "0.763 (+/-0.018) for {'lr__C': 0.3684210526316421, 'vect__max_df': 0.5, 'vect__ngram_range': (1, 1)}\n",
      "0.772 (+/-0.018) for {'lr__C': 0.3684210526316421, 'vect__max_df': 0.5, 'vect__ngram_range': (1, 2)}\n",
      "0.763 (+/-0.018) for {'lr__C': 0.3684210526316421, 'vect__max_df': 0.75, 'vect__ngram_range': (1, 1)}\n",
      "0.772 (+/-0.018) for {'lr__C': 0.3684210526316421, 'vect__max_df': 0.75, 'vect__ngram_range': (1, 2)}\n",
      "0.763 (+/-0.018) for {'lr__C': 0.3684210526316421, 'vect__max_df': 1.0, 'vect__ngram_range': (1, 1)}\n",
      "0.772 (+/-0.018) for {'lr__C': 0.3684210526316421, 'vect__max_df': 1.0, 'vect__ngram_range': (1, 2)}\n",
      "0.762 (+/-0.018) for {'lr__C': 0.42105263157900524, 'vect__max_df': 0.5, 'vect__ngram_range': (1, 1)}\n",
      "0.772 (+/-0.017) for {'lr__C': 0.42105263157900524, 'vect__max_df': 0.5, 'vect__ngram_range': (1, 2)}\n",
      "0.762 (+/-0.018) for {'lr__C': 0.42105263157900524, 'vect__max_df': 0.75, 'vect__ngram_range': (1, 1)}\n",
      "0.772 (+/-0.017) for {'lr__C': 0.42105263157900524, 'vect__max_df': 0.75, 'vect__ngram_range': (1, 2)}\n",
      "0.762 (+/-0.018) for {'lr__C': 0.42105263157900524, 'vect__max_df': 1.0, 'vect__ngram_range': (1, 1)}\n",
      "0.772 (+/-0.017) for {'lr__C': 0.42105263157900524, 'vect__max_df': 1.0, 'vect__ngram_range': (1, 2)}\n",
      "0.762 (+/-0.019) for {'lr__C': 0.4736842105263684, 'vect__max_df': 0.5, 'vect__ngram_range': (1, 1)}\n",
      "0.772 (+/-0.018) for {'lr__C': 0.4736842105263684, 'vect__max_df': 0.5, 'vect__ngram_range': (1, 2)}\n",
      "0.762 (+/-0.019) for {'lr__C': 0.4736842105263684, 'vect__max_df': 0.75, 'vect__ngram_range': (1, 1)}\n",
      "0.772 (+/-0.018) for {'lr__C': 0.4736842105263684, 'vect__max_df': 0.75, 'vect__ngram_range': (1, 2)}\n",
      "0.762 (+/-0.019) for {'lr__C': 0.4736842105263684, 'vect__max_df': 1.0, 'vect__ngram_range': (1, 1)}\n",
      "0.772 (+/-0.018) for {'lr__C': 0.4736842105263684, 'vect__max_df': 1.0, 'vect__ngram_range': (1, 2)}\n",
      "0.763 (+/-0.019) for {'lr__C': 0.5263157894737316, 'vect__max_df': 0.5, 'vect__ngram_range': (1, 1)}\n",
      "0.773 (+/-0.018) for {'lr__C': 0.5263157894737316, 'vect__max_df': 0.5, 'vect__ngram_range': (1, 2)}\n",
      "0.763 (+/-0.019) for {'lr__C': 0.5263157894737316, 'vect__max_df': 0.75, 'vect__ngram_range': (1, 1)}\n",
      "0.773 (+/-0.018) for {'lr__C': 0.5263157894737316, 'vect__max_df': 0.75, 'vect__ngram_range': (1, 2)}\n",
      "0.763 (+/-0.019) for {'lr__C': 0.5263157894737316, 'vect__max_df': 1.0, 'vect__ngram_range': (1, 1)}\n",
      "0.773 (+/-0.018) for {'lr__C': 0.5263157894737316, 'vect__max_df': 1.0, 'vect__ngram_range': (1, 2)}\n",
      "0.762 (+/-0.018) for {'lr__C': 0.5789473684210947, 'vect__max_df': 0.5, 'vect__ngram_range': (1, 1)}\n",
      "0.773 (+/-0.017) for {'lr__C': 0.5789473684210947, 'vect__max_df': 0.5, 'vect__ngram_range': (1, 2)}\n",
      "0.762 (+/-0.018) for {'lr__C': 0.5789473684210947, 'vect__max_df': 0.75, 'vect__ngram_range': (1, 1)}\n",
      "0.773 (+/-0.017) for {'lr__C': 0.5789473684210947, 'vect__max_df': 0.75, 'vect__ngram_range': (1, 2)}\n",
      "0.762 (+/-0.018) for {'lr__C': 0.5789473684210947, 'vect__max_df': 1.0, 'vect__ngram_range': (1, 1)}\n",
      "0.773 (+/-0.017) for {'lr__C': 0.5789473684210947, 'vect__max_df': 1.0, 'vect__ngram_range': (1, 2)}\n",
      "0.762 (+/-0.019) for {'lr__C': 0.631578947368458, 'vect__max_df': 0.5, 'vect__ngram_range': (1, 1)}\n",
      "0.773 (+/-0.018) for {'lr__C': 0.631578947368458, 'vect__max_df': 0.5, 'vect__ngram_range': (1, 2)}\n",
      "0.762 (+/-0.019) for {'lr__C': 0.631578947368458, 'vect__max_df': 0.75, 'vect__ngram_range': (1, 1)}\n",
      "0.773 (+/-0.018) for {'lr__C': 0.631578947368458, 'vect__max_df': 0.75, 'vect__ngram_range': (1, 2)}\n",
      "0.762 (+/-0.019) for {'lr__C': 0.631578947368458, 'vect__max_df': 1.0, 'vect__ngram_range': (1, 1)}\n",
      "0.773 (+/-0.018) for {'lr__C': 0.631578947368458, 'vect__max_df': 1.0, 'vect__ngram_range': (1, 2)}\n",
      "0.762 (+/-0.019) for {'lr__C': 0.6842105263158211, 'vect__max_df': 0.5, 'vect__ngram_range': (1, 1)}\n",
      "0.773 (+/-0.018) for {'lr__C': 0.6842105263158211, 'vect__max_df': 0.5, 'vect__ngram_range': (1, 2)}\n",
      "0.762 (+/-0.019) for {'lr__C': 0.6842105263158211, 'vect__max_df': 0.75, 'vect__ngram_range': (1, 1)}\n",
      "0.773 (+/-0.018) for {'lr__C': 0.6842105263158211, 'vect__max_df': 0.75, 'vect__ngram_range': (1, 2)}\n",
      "0.762 (+/-0.019) for {'lr__C': 0.6842105263158211, 'vect__max_df': 1.0, 'vect__ngram_range': (1, 1)}\n",
      "0.773 (+/-0.018) for {'lr__C': 0.6842105263158211, 'vect__max_df': 1.0, 'vect__ngram_range': (1, 2)}\n",
      "0.762 (+/-0.019) for {'lr__C': 0.7368421052631843, 'vect__max_df': 0.5, 'vect__ngram_range': (1, 1)}\n",
      "0.773 (+/-0.018) for {'lr__C': 0.7368421052631843, 'vect__max_df': 0.5, 'vect__ngram_range': (1, 2)}\n",
      "0.762 (+/-0.019) for {'lr__C': 0.7368421052631843, 'vect__max_df': 0.75, 'vect__ngram_range': (1, 1)}\n",
      "0.773 (+/-0.018) for {'lr__C': 0.7368421052631843, 'vect__max_df': 0.75, 'vect__ngram_range': (1, 2)}\n",
      "0.762 (+/-0.019) for {'lr__C': 0.7368421052631843, 'vect__max_df': 1.0, 'vect__ngram_range': (1, 1)}\n",
      "0.773 (+/-0.018) for {'lr__C': 0.7368421052631843, 'vect__max_df': 1.0, 'vect__ngram_range': (1, 2)}\n",
      "0.762 (+/-0.019) for {'lr__C': 0.7894736842105474, 'vect__max_df': 0.5, 'vect__ngram_range': (1, 1)}\n",
      "0.772 (+/-0.018) for {'lr__C': 0.7894736842105474, 'vect__max_df': 0.5, 'vect__ngram_range': (1, 2)}\n",
      "0.762 (+/-0.019) for {'lr__C': 0.7894736842105474, 'vect__max_df': 0.75, 'vect__ngram_range': (1, 1)}\n",
      "0.772 (+/-0.018) for {'lr__C': 0.7894736842105474, 'vect__max_df': 0.75, 'vect__ngram_range': (1, 2)}\n",
      "0.762 (+/-0.019) for {'lr__C': 0.7894736842105474, 'vect__max_df': 1.0, 'vect__ngram_range': (1, 1)}\n",
      "0.772 (+/-0.018) for {'lr__C': 0.7894736842105474, 'vect__max_df': 1.0, 'vect__ngram_range': (1, 2)}\n",
      "0.762 (+/-0.019) for {'lr__C': 0.8421052631579106, 'vect__max_df': 0.5, 'vect__ngram_range': (1, 1)}\n",
      "0.772 (+/-0.018) for {'lr__C': 0.8421052631579106, 'vect__max_df': 0.5, 'vect__ngram_range': (1, 2)}\n",
      "0.762 (+/-0.019) for {'lr__C': 0.8421052631579106, 'vect__max_df': 0.75, 'vect__ngram_range': (1, 1)}\n",
      "0.772 (+/-0.018) for {'lr__C': 0.8421052631579106, 'vect__max_df': 0.75, 'vect__ngram_range': (1, 2)}\n",
      "0.762 (+/-0.019) for {'lr__C': 0.8421052631579106, 'vect__max_df': 1.0, 'vect__ngram_range': (1, 1)}\n",
      "0.772 (+/-0.018) for {'lr__C': 0.8421052631579106, 'vect__max_df': 1.0, 'vect__ngram_range': (1, 2)}\n",
      "0.762 (+/-0.019) for {'lr__C': 0.8947368421052737, 'vect__max_df': 0.5, 'vect__ngram_range': (1, 1)}\n",
      "0.772 (+/-0.018) for {'lr__C': 0.8947368421052737, 'vect__max_df': 0.5, 'vect__ngram_range': (1, 2)}\n",
      "0.762 (+/-0.019) for {'lr__C': 0.8947368421052737, 'vect__max_df': 0.75, 'vect__ngram_range': (1, 1)}\n",
      "0.772 (+/-0.018) for {'lr__C': 0.8947368421052737, 'vect__max_df': 0.75, 'vect__ngram_range': (1, 2)}\n",
      "0.762 (+/-0.019) for {'lr__C': 0.8947368421052737, 'vect__max_df': 1.0, 'vect__ngram_range': (1, 1)}\n",
      "0.772 (+/-0.018) for {'lr__C': 0.8947368421052737, 'vect__max_df': 1.0, 'vect__ngram_range': (1, 2)}\n",
      "0.762 (+/-0.019) for {'lr__C': 0.9473684210526369, 'vect__max_df': 0.5, 'vect__ngram_range': (1, 1)}\n",
      "0.772 (+/-0.019) for {'lr__C': 0.9473684210526369, 'vect__max_df': 0.5, 'vect__ngram_range': (1, 2)}\n",
      "0.762 (+/-0.019) for {'lr__C': 0.9473684210526369, 'vect__max_df': 0.75, 'vect__ngram_range': (1, 1)}\n",
      "0.772 (+/-0.019) for {'lr__C': 0.9473684210526369, 'vect__max_df': 0.75, 'vect__ngram_range': (1, 2)}\n",
      "0.762 (+/-0.019) for {'lr__C': 0.9473684210526369, 'vect__max_df': 1.0, 'vect__ngram_range': (1, 1)}\n",
      "0.772 (+/-0.019) for {'lr__C': 0.9473684210526369, 'vect__max_df': 1.0, 'vect__ngram_range': (1, 2)}\n",
      "0.762 (+/-0.020) for {'lr__C': 1.0, 'vect__max_df': 0.5, 'vect__ngram_range': (1, 1)}\n",
      "0.772 (+/-0.019) for {'lr__C': 1.0, 'vect__max_df': 0.5, 'vect__ngram_range': (1, 2)}\n",
      "0.762 (+/-0.020) for {'lr__C': 1.0, 'vect__max_df': 0.75, 'vect__ngram_range': (1, 1)}\n",
      "0.772 (+/-0.019) for {'lr__C': 1.0, 'vect__max_df': 0.75, 'vect__ngram_range': (1, 2)}\n",
      "0.762 (+/-0.020) for {'lr__C': 1.0, 'vect__max_df': 1.0, 'vect__ngram_range': (1, 1)}\n",
      "0.772 (+/-0.019) for {'lr__C': 1.0, 'vect__max_df': 1.0, 'vect__ngram_range': (1, 2)}\n",
      "\n"
     ]
    }
   ],
   "source": [
    "print(\"Best parameters set found on development set:\")\n",
    "print()\n",
    "print(grid_search.best_params_)\n",
    "print()\n",
    "print(\"Grid scores on development set:\")\n",
    "print()\n",
    "means = grid_search.cv_results_['mean_test_score']\n",
    "stds = grid_search.cv_results_['std_test_score']\n",
    "for mean, std, params in zip(means, stds, grid_search.cv_results_['params']):\n",
    "    print(\"%0.3f (+/-%0.03f) for %r\"\n",
    "          % (mean, std * 2, params))\n",
    "print()"
   ]
  },
  {
   "cell_type": "code",
   "execution_count": 24,
   "metadata": {},
   "outputs": [
    {
     "name": "stdout",
     "output_type": "stream",
     "text": [
      "\t\t\tVALIDATION:\n",
      "\n",
      "C=0.00000:\t\t0.58843\n",
      "C=0.05263:\t\t0.76075\n",
      "C=0.10526:\t\t0.76718\n",
      "C=0.15789:\t\t0.77143\n",
      "C=0.21053:\t\t0.77252\n",
      "C=0.26316:\t\t0.77301\n",
      "C=0.31579:\t\t0.77341\n",
      "C=0.36842:\t\t0.77380\n",
      "C=0.42105:\t\t0.77380\n",
      "C=0.47368:\t\t0.77400\n",
      "C=0.52632:\t\t0.77459\n",
      "C=0.57895:\t\t0.77558\n",
      "C=0.63158:\t\t0.77608\n",
      "C=0.68421:\t\t0.77588\n",
      "C=0.73684:\t\t0.77568\n",
      "C=0.78947:\t\t0.77519\n",
      "C=0.84211:\t\t0.77548\n",
      "C=0.89474:\t\t0.77548\n",
      "C=0.94737:\t\t0.77519\n",
      "C=1.00000:\t\t0.77558\n"
     ]
    }
   ],
   "source": [
    "C1=[]\n",
    "score_v=[]\n",
    "print(\"\\t\"*3+\"VALIDATION:\\n\")\n",
    "# for c in (10**exp for exp in range(-10, 10)):\n",
    "for c in np.linspace(0.0000000000001,1,20):\n",
    "    lr=LogisticRegression(C=c)\n",
    "    lr.fit(X_train,y_train)\n",
    "    print (\"C={:.5f}:\\t\\t{:.5f}\".format\n",
    "           (c,accuracy_score(y_val, lr.predict(X_val))))\n",
    "    C1.append(c)\n",
    "    score_v.append(accuracy_score(y_val, lr.predict(X_val)))"
   ]
  },
  {
   "cell_type": "markdown",
   "metadata": {},
   "source": [
    "# Final Test - Accuracy & F1_score"
   ]
  },
  {
   "cell_type": "code",
   "execution_count": 13,
   "metadata": {},
   "outputs": [
    {
     "name": "stdout",
     "output_type": "stream",
     "text": [
      "Final Accuracy: 0.9553787952274712\n",
      "Error: 0.044621204772528844\n"
     ]
    }
   ],
   "source": [
    "final_model = LogisticRegression(C=0.7368421052631843)\n",
    "final_model.fit(X_test, df_test['Sentiment'])\n",
    "print (\"Final Accuracy: %s\" \n",
    "       % accuracy_score(df_test['Sentiment'], final_model.predict(X_test)))\n",
    "print(\"Error: %s\" % (1- accuracy_score(df_test['Sentiment'], final_model.predict(X_test))))"
   ]
  },
  {
   "cell_type": "code",
   "execution_count": 23,
   "metadata": {},
   "outputs": [
    {
     "name": "stdout",
     "output_type": "stream",
     "text": [
      "Final F1_Score: 0.9581894201054354\n",
      "Error: 0.0418105798945646\n"
     ]
    }
   ],
   "source": [
    "final_model = LogisticRegression(C=0.7368421052631843)\n",
    "final_model.fit(X_test, df_test['Sentiment'])\n",
    "print (\"Final F1_Score: %s\" \n",
    "       % f1_score(df_test['Sentiment'], final_model.predict(X_test)))\n",
    "print(\"Error: %s\" % (1- f1_score(df_test['Sentiment'], final_model.predict(X_test))))"
   ]
  },
  {
   "cell_type": "code",
   "execution_count": 14,
   "metadata": {},
   "outputs": [
    {
     "name": "stdout",
     "output_type": "stream",
     "text": [
      "Final Accuracy: 0.9368512949849646\n",
      "Error: 0.06314870501503544\n"
     ]
    }
   ],
   "source": [
    "lr_cv_best_parameters=lr_cv.best_estimator_.get_params()['C']\n",
    "final_model1 = LogisticRegression(C=lr_cv_best_parameters)\n",
    "final_model1.fit(X_test, df_test['Sentiment'])\n",
    "print (\"Final Accuracy: %s\" \n",
    "       % accuracy_score(df_test['Sentiment'], final_model1.predict(X_test)))\n",
    "print(\"Error: %s\" % (1- accuracy_score(df_test['Sentiment'], final_model1.predict(X_test))))"
   ]
  },
  {
   "cell_type": "code",
   "execution_count": 22,
   "metadata": {},
   "outputs": [
    {
     "name": "stdout",
     "output_type": "stream",
     "text": [
      "Final F1_Score: 0.9411019632678911\n",
      "Error: 0.058898036732108916\n"
     ]
    }
   ],
   "source": [
    "lr_cv_best_parameters=lr_cv.best_estimator_.get_params()['C']\n",
    "final_model1 = LogisticRegression(C=lr_cv_best_parameters)\n",
    "final_model1.fit(X_test, df_test['Sentiment'])\n",
    "print (\"Final F1_Score: %s\" \n",
    "       % f1_score(df_test['Sentiment'], final_model1.predict(X_test)))\n",
    "print(\"Error: %s\" % (1- f1_score(df_test['Sentiment'], final_model1.predict(X_test))))"
   ]
  },
  {
   "cell_type": "code",
   "execution_count": 15,
   "metadata": {},
   "outputs": [
    {
     "name": "stdout",
     "output_type": "stream",
     "text": [
      "Final Accuracy: 0.9488796197497332\n",
      "Error: 0.05112038025026677\n"
     ]
    }
   ],
   "source": [
    "final_model2 = LogisticRegression(C=best_parameters['lr__C'])\n",
    "final_model2.fit(X_test, df_test['Sentiment'])\n",
    "print (\"Final Accuracy: %s\" \n",
    "       % accuracy_score(df_test['Sentiment'], final_model2.predict(X_test)))\n",
    "print(\"Error: %s\" % (1- accuracy_score(df_test['Sentiment'], final_model2.predict(X_test))))"
   ]
  },
  {
   "cell_type": "code",
   "execution_count": 19,
   "metadata": {},
   "outputs": [
    {
     "name": "stdout",
     "output_type": "stream",
     "text": [
      "Final F1_Score: 0.952190873627869\n",
      "Error: 0.04780912637213097\n"
     ]
    }
   ],
   "source": [
    "final_model2 = LogisticRegression(C=best_parameters['lr__C'])\n",
    "final_model2.fit(X_test, df_test['Sentiment'])\n",
    "print (\"Final F1_Score: %s\" \n",
    "       % f1_score(df_test['Sentiment'], final_model2.predict(X_test)))\n",
    "print(\"Error: %s\" % (1- f1_score(df_test['Sentiment'], final_model2.predict(X_test))))"
   ]
  },
  {
   "cell_type": "markdown",
   "metadata": {},
   "source": [
    "# Dumping model into pickles"
   ]
  },
  {
   "cell_type": "code",
   "execution_count": 24,
   "metadata": {},
   "outputs": [],
   "source": [
    "pickle.dump(final_model2, open(\"./our_model.pkl\", \"wb\"))\n",
    "pickle.dump(cv_ngram, open(\"./our_cv.pkl\", \"wb\"))"
   ]
  },
  {
   "cell_type": "code",
   "execution_count": null,
   "metadata": {},
   "outputs": [],
   "source": []
  }
 ],
 "metadata": {
  "kernelspec": {
   "display_name": "Python 3",
   "language": "python",
   "name": "python3"
  },
  "language_info": {
   "codemirror_mode": {
    "name": "ipython",
    "version": 3
   },
   "file_extension": ".py",
   "mimetype": "text/x-python",
   "name": "python",
   "nbconvert_exporter": "python",
   "pygments_lexer": "ipython3",
   "version": "3.7.3"
  }
 },
 "nbformat": 4,
 "nbformat_minor": 2
}
